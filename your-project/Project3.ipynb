{
 "cells": [
  {
   "cell_type": "markdown",
   "metadata": {},
   "source": [
    "# The Mighty Human, destroyer of worlds"
   ]
  },
  {
   "cell_type": "markdown",
   "metadata": {},
   "source": [
    "## Introduction"
   ]
  },
  {
   "cell_type": "markdown",
   "metadata": {},
   "source": [
    "Humans where once fairly harmless and peaceful (minus some animal killing, and some human killing and well a lot of killing but yeah, you get the point) but then, somehow (ehem colonialism and industrial revolution) they became LETHAL!!! at least to many other species (we have always been lethal towards our own).\n",
    "\n",
    "Over the milenia Earth has experienced many cyclic changes including climate variation and its consequent temperature fluctuation (glacial advance and retreat). The end of last Ice Age allowed us to thrive so yeah to climate change!! But is this temperature change all part of Earth's plan? or are humans responsible for this? Climate change is very real and facts show that Earth's plan was not having all this tiny humans messing around. So, let us stop with all the babling and start seeing some facts.\n"
   ]
  },
  {
   "cell_type": "markdown",
   "metadata": {},
   "source": [
    "## Questions and Hypotheses"
   ]
  },
  {
   "cell_type": "markdown",
   "metadata": {},
   "source": [
    "Before analysing the data some questions where considered:\n",
    "\n",
    "- Q1. Have the threatened species, the human population and the temperature increased over the years?\n",
    "\n",
    "- Q2. Is human growth affecting non-human populations and temperature?\n",
    "\n",
    "- Q3. Are vertebrates,invertebrates and plants affected in a different manner?\n",
    "\n",
    "And the following hypotheses where proposed:\n",
    "\n",
    "- H1. Humans are related to the extinction of non-human population \n",
    "\n",
    "- H2. Temperature is related to the extinction of non-human population \n",
    "\n",
    "- H3. Vertebrates and invertebrates are affected differently, being the latter the most affected\n",
    "\n",
    "- H4. Plants and animals are affected differently, being the plants the most affected\n",
    "\n",
    "- H5. As the temperature varies, the ratio of the most affected non-human populations change"
   ]
  },
  {
   "cell_type": "markdown",
   "metadata": {},
   "source": [
    "## Methods\n",
    "For this project, APIs and web scrapping were initially the main resources to obtain information. Nonetheless, API access was complicated and obtaining tokens proved to be a challange that could not be successfully completed. Web scrapping on the other hand, was very useful to gather initial data to have a general idea about what to do, but useless due to lack of common variables.  At the end, csv datasets were the main source of information.\n",
    "\n",
    "Intended resources:\n",
    "- APIs:\n",
    "    - https://endangeredanimals.docs.apiary.io/#\n",
    "    - https://apiv3.iucnredlist.org\n",
    "    - https://dev.meteostat.net/\n",
    "    - https://datahelpdesk.worldbank.org/\n",
    "- Web scrapping:\n",
    "    - http://earthsendangered.com/search-regions3.asp\n",
    "    - https://www.statista.com/statistics/978577/number-threatened-species-brazil-type/\n",
    "    - https://knoema.es/WBWDI2019Jan/world-development-indicators-wdi\n",
    "    \n",
    "Actual resources:\n",
    "   - (https://www.iucnredlist.org/resources/summary-statistics)\n",
    "   - (https://climate.nasa.gov/vital-signs/global-temperature/)\n",
    "   - (https://databank.worldbank.org/)"
   ]
  },
  {
   "cell_type": "markdown",
   "metadata": {},
   "source": [
    "### Workflow:  \n",
    "\n",
    "- Questions\n",
    "- Hypotheses\n",
    "- Dataset research\n",
    "- Web scrapping + API requests\n",
    "- Dataset enquiries\n",
    "- Data cleaning\n",
    "- Data analysis\n",
    "- Results\n",
    "- Conclusions"
   ]
  },
  {
   "cell_type": "markdown",
   "metadata": {},
   "source": [
    "### Data retrieval and data information"
   ]
  },
  {
   "cell_type": "markdown",
   "metadata": {},
   "source": [
    "Data was retrieved from 3 main sources: the IUCN webpage, the NASA webpage and the world bank open data. As shown in the image above, from each webpage different information was retrieved in order to generate a unified table with the information about the threaten species (divided into four subgroups: vertebrate animals, invertebrate animals, plants and fungi and protists; each of them divided into more subgroups), the temperature change and the human population growth.\n",
    "Information was ordered by year from 1996 until 2019 and by assessed and threatened non-human species."
   ]
  },
  {
   "cell_type": "markdown",
   "metadata": {},
   "source": [
    "![image](ERD_project.png)"
   ]
  },
  {
   "cell_type": "markdown",
   "metadata": {},
   "source": [
    "## Results"
   ]
  },
  {
   "cell_type": "markdown",
   "metadata": {},
   "source": [
    "### Q1: Have the threatened species, the human population and the temperature increased over the years?"
   ]
  },
  {
   "cell_type": "markdown",
   "metadata": {},
   "source": [
    "![image](images/Pop_Sp_Temp.png)"
   ]
  },
  {
   "cell_type": "markdown",
   "metadata": {},
   "source": [
    "Plot1 (top figure)\n",
    "There is an increasing trend with values specially remarkable from 2010 onwards\n",
    "\n",
    "Plot2 (bottom left)\n",
    "There is clearly an increasing trend throughout the plot, but there is a larger different in between 2003-2004 years and from 2010 onwards.\n",
    "\n",
    "Plot3 (bottom right)\n",
    "This plot also shows an increasing trend with a gradual rate of 1.1-1.3"
   ]
  },
  {
   "cell_type": "markdown",
   "metadata": {},
   "source": [
    "![image](images/Index_and_Assessed.png)"
   ]
  },
  {
   "cell_type": "markdown",
   "metadata": {},
   "source": [
    "Plot1 (left figure)\n",
    "We can see that the threatened species increase over the years but the index diminishes starting on the year 2002 indicating that each year more species have been assessed.\n",
    "\n",
    "Plot2 (right figure)\n",
    "With a common increasing rate, we detected that vertebrates are the most affected, followed by plants and then invertebrates, though the rate is not constant, specially during the first studied years."
   ]
  },
  {
   "cell_type": "markdown",
   "metadata": {},
   "source": [
    "![image](images/Temp_over_years.png)"
   ]
  },
  {
   "cell_type": "markdown",
   "metadata": {},
   "source": [
    "It seems that it was not until 2010 that the increase was a lot more accused reaching almost 1 degree of difference"
   ]
  },
  {
   "cell_type": "markdown",
   "metadata": {},
   "source": [
    "### Q2: Is human growth affecting non-human populations and temperature?"
   ]
  },
  {
   "cell_type": "markdown",
   "metadata": {},
   "source": [
    "![image](images/Corre.Pop_Spec_Temp.png)"
   ]
  },
  {
   "cell_type": "code",
   "execution_count": null,
   "metadata": {},
   "outputs": [],
   "source": []
  },
  {
   "cell_type": "markdown",
   "metadata": {},
   "source": [
    "### Q3: Are vertebrates,invertebrates and plants affected in a different manner?"
   ]
  },
  {
   "cell_type": "markdown",
   "metadata": {},
   "source": [
    "![image](images/Species_Comparative_threat.png)"
   ]
  },
  {
   "cell_type": "markdown",
   "metadata": {},
   "source": [
    "Contrasted with assessed species of non-humans, plants is the living being the most studied, followed by vertebrates and finally invertebrates"
   ]
  },
  {
   "cell_type": "markdown",
   "metadata": {},
   "source": [
    "## Conclusions"
   ]
  },
  {
   "cell_type": "markdown",
   "metadata": {},
   "source": [
    "- There is a clear increasing trend in human population and keeps growing over the years at a quite similar percentage. The acumulated increase percentatge since 1996 until now is 28’5%\n",
    "- It seems that it was not until 2010 that temperature increasing was a lot more accused, reaching almost 1 degree of difference. It might seem like nothing to us but it is in fact.\n",
    "- It seems that overall, the most threatened species are plants, then vertebrates and then invertebrates. We hypothesised that plants would be the most affected ones.\n",
    "- We can see that the threatened species increase over the years but the index diminishes starting on the year 2002 indicating that each year more species have been assessed.\n",
    "\n",
    "- We can see that the three variables that we analysed are evolving together in a similar trend (We cannot say that they are directly correlated since there are many other variables that we should control to obtain certain conclusions, in the sense that temperature increase of water boiling most likely would also show as having a correlation). So, for the first hypothesis and the second one we can say that the data follows a similar increasing trend\n"
   ]
  }
 ],
 "metadata": {
  "kernelspec": {
   "display_name": "Python 3",
   "language": "python",
   "name": "python3"
  },
  "language_info": {
   "codemirror_mode": {
    "name": "ipython",
    "version": 3
   },
   "file_extension": ".py",
   "mimetype": "text/x-python",
   "name": "python",
   "nbconvert_exporter": "python",
   "pygments_lexer": "ipython3",
   "version": "3.8.3"
  },
  "toc": {
   "base_numbering": 1,
   "nav_menu": {},
   "number_sections": true,
   "sideBar": true,
   "skip_h1_title": false,
   "title_cell": "Table of Contents",
   "title_sidebar": "Contents",
   "toc_cell": false,
   "toc_position": {},
   "toc_section_display": true,
   "toc_window_display": false
  }
 },
 "nbformat": 4,
 "nbformat_minor": 4
}
